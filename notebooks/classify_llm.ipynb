{
 "cells": [
  {
   "cell_type": "code",
   "execution_count": 36,
   "metadata": {},
   "outputs": [
    {
     "name": "stdout",
     "output_type": "stream",
     "text": [
      "Hello!\n"
     ]
    },
    {
     "data": {
      "text/plain": [
       "True"
      ]
     },
     "execution_count": 36,
     "metadata": {},
     "output_type": "execute_result"
    }
   ],
   "source": [
    "print('Hello!')\n",
    "import os\n",
    "os.chdir('..')\n",
    "from dotenv import load_dotenv\n",
    "load_dotenv()"
   ]
  },
  {
   "cell_type": "markdown",
   "metadata": {},
   "source": [
    "##### Instructor Prototype "
   ]
  },
  {
   "cell_type": "code",
   "execution_count": 188,
   "metadata": {},
   "outputs": [],
   "source": [
    "from pydantic import BaseModel,Field, ValidationError, model_validator, field_validator\n",
    "from enum import Enum\n",
    "from typing import Union, Optional\n",
    "\n",
    "\n",
    "class RequestCategory(str, Enum):\n",
    "    VOICE_COMMAND = \"voice_command\"\n",
    "    MUSIC_SUGGESTION = \"music_suggestion\"\n",
    "\n",
    "class MusicGenre(str, Enum):\n",
    "    TECHNO = 'techno'\n",
    "    REGGAE = 'reggae'\n",
    "\n",
    "class Command(str, Enum):\n",
    "    BGCOLOR1 = \"set_bg_color1\"\n",
    "    SPAWNASYNC = \"spawn\"\n",
    "    SHOWBLOCKLIST = 'show_block_list'\n",
    "\n",
    "class ColorArgument(str, Enum):\n",
    "    BLUE = 'blue'\n",
    "    RED = 'red'\n",
    "    GREEN = 'green'\n",
    "    PURPLE = 'purple'\n",
    "\n",
    "class RGBColor(BaseModel):\n",
    "    r: float = Field(..., description=\"Red component of the color (0.0 to 1.0)\")\n",
    "    g: float = Field(..., description=\"Green component of the color (0.0 to 1.0)\")\n",
    "    b: float = Field(..., description=\"Blue component of the color (0.0 to 1.0)\")\n",
    "\n",
    "    # description: str = \"Color should be provided as an RGB tuple with each value between 0.0 and 1.0, e.g., [0.5, 0.2, 0.8]\"\n",
    "\n",
    "    # Custom Validator to enforce the RGB range\n",
    "    @field_validator('r', 'g', 'b')\n",
    "    def validate_color_range(cls, value):\n",
    "        if not (0.0 <= value <= 1.0):\n",
    "            raise ValueError('Color values must be between 0.0 and 1.0')\n",
    "        return value\n",
    "\n",
    "# class RGBColor(BaseModel):\n",
    "#     r: float = Field(..., ge=0.0, le=1.0, description=\"Red component of the color (0.0 to 1.0)\")\n",
    "#     g: float = Field(..., ge=0.0, le=1.0, description=\"Green component of the color (0.0 to 1.0)\")\n",
    "#     b: float = Field(..., ge=0.0, le=1.0, description=\"Blue component of the color (0.0 to 1.0)\")\n",
    "\n",
    "\n",
    "#     # @field_validator('r', 'g', 'b')\n",
    "#     # def validate_color_range(cls, value):\n",
    "#     #     if not (0.0 <= value <= 1.0):\n",
    "#     #         raise ValueError('Color values must be between 0.0 and 1.0')\n",
    "#     #     return value\n",
    "\n",
    "\n",
    "class SpawnArgument(str, Enum):\n",
    "    OSC = 'oscillator'\n",
    "    SPEAKER = 'speaker'\n",
    "    NOIZE = 'noize'\n",
    "    VIOLIN = 'violin'\n"
   ]
  },
  {
   "cell_type": "code",
   "execution_count": 189,
   "metadata": {},
   "outputs": [],
   "source": [
    "class VoiceCommandArguments(BaseModel):\n",
    "    command: Command\n",
    "    arguments: Optional[Union[RGBColor, SpawnArgument]] = None\n",
    "\n",
    "    @model_validator(mode='after')\n",
    "    def validate_command_arguments(self):\n",
    "        if self.command == Command.BGCOLOR1 and not isinstance(self.arguments, RGBColor):\n",
    "            raise ValueError(f\"{self.command} requires a RGBColor.\")\n",
    "        if self.command == Command.SPAWNASYNC and not isinstance(self.arguments, SpawnArgument):\n",
    "            raise ValueError(f\"{self.command} requires a SpawnArgument.\")\n",
    "        if self.command == Command.SHOWBLOCKLIST and self.arguments is not None:\n",
    "            raise ValueError(f\"{self.command} does not accept arguments.\")\n",
    "        return self\n",
    "\n",
    "class MusicSuggestionArguments(BaseModel):\n",
    "    genre: MusicGenre\n",
    "    mood: Optional[str] = Field(None, description=\"Optional mood descriptor for the suggestion.\")\n"
   ]
  },
  {
   "cell_type": "code",
   "execution_count": 190,
   "metadata": {},
   "outputs": [],
   "source": [
    "class ExtractIntention(BaseModel):\n",
    "    intention: RequestCategory\n",
    "    details: Union[VoiceCommandArguments, MusicSuggestionArguments]\n",
    "\n",
    "    @model_validator(mode='after')\n",
    "    def validate_intention(self):\n",
    "        if self.intention == RequestCategory.VOICE_COMMAND and not isinstance(self.details, VoiceCommandArguments):\n",
    "            raise ValueError(f\"{self.intention} requires VoiceCommandArguments.\")\n",
    "        if self.intention == RequestCategory.MUSIC_SUGGESTION and not isinstance(self.details, MusicSuggestionArguments):\n",
    "            raise ValueError(f\"{self.intention} requires MusicSuggestionArguments.\")\n",
    "        return self\n"
   ]
  },
  {
   "cell_type": "code",
   "execution_count": 191,
   "metadata": {},
   "outputs": [],
   "source": [
    "valid_voice_command = {\n",
    "    \"intention\": \"voice_command\",\n",
    "    \"details\": {\n",
    "        \"command\": \"set_bg_color1\",\n",
    "        # \"arguments\": \"blue\"\n",
    "        # \"arguments\": \"violin\"\n",
    "        \"arguments\": {\"r\": 0.5, \"g\": 0.2, \"b\": 0.8}\n",
    "    }\n",
    "}\n",
    "\n",
    "valid_music_suggestion = {\n",
    "    \"intention\": \"music_suggestion\",\n",
    "    \"details\": {\n",
    "        \"genre\": \"techno\",\n",
    "        \"mood\": \"energetic\"\n",
    "    }\n",
    "}\n",
    "\n",
    "voice_command = ExtractIntention(**valid_voice_command)\n",
    "# music_suggestion = ExtractIntention(**valid_music_suggestion)\n"
   ]
  },
  {
   "cell_type": "code",
   "execution_count": 192,
   "metadata": {},
   "outputs": [],
   "source": [
    "# from openai import OpenAI\n",
    "from openai import AsyncOpenAI\n",
    "\n",
    "client = AsyncOpenAI(\n",
    "    api_key=os.environ.get(\"OPENAI_API_KEY\"),  # This is the default and can be omitted\n",
    ")\n",
    "\n",
    "async def classify(text: str) -> str:\n",
    "    # response = client.chat.completions.create(\n",
    "    response = await client.with_options(max_retries=3).beta.chat.completions.parse(\n",
    "        model=\"gpt-4o-mini\", \n",
    "        response_format = ExtractIntention,\n",
    "        temperature=0,\n",
    "        # max_retries=4,\n",
    "        messages = [{\n",
    "            \"role\": \"system\",\n",
    "            \"content\": \"Analyze the user's text and extract the information.\",\n",
    "        },\n",
    "        {\n",
    "            \"role\": \"user\",\n",
    "            \"content\": text\n",
    "        }\n",
    "        ]\n",
    "    )\n",
    "    return response"
   ]
  },
  {
   "cell_type": "code",
   "execution_count": 193,
   "metadata": {},
   "outputs": [
    {
     "name": "stdout",
     "output_type": "stream",
     "text": [
      "Something\n"
     ]
    }
   ],
   "source": [
    "jb = await classify('Set BGColor to purple')\n",
    "print('Something')"
   ]
  },
  {
   "cell_type": "code",
   "execution_count": 195,
   "metadata": {},
   "outputs": [
    {
     "data": {
      "text/plain": [
       "'{\"intention\":\"voice_command\",\"details\":{\"command\":\"set_bg_color1\",\"arguments\":{\"r\":0.5,\"g\":0,\"b\":0.5}}}'"
      ]
     },
     "execution_count": 195,
     "metadata": {},
     "output_type": "execute_result"
    }
   ],
   "source": [
    "jb.choices[0].message.to_dict()['content']"
   ]
  },
  {
   "cell_type": "code",
   "execution_count": 197,
   "metadata": {},
   "outputs": [
    {
     "data": {
      "text/plain": [
       "{'intention': 'voice_command',\n",
       " 'details': {'command': 'set_bg_color1',\n",
       "  'arguments': {'r': 0.5, 'g': 0, 'b': 0.5}}}"
      ]
     },
     "execution_count": 197,
     "metadata": {},
     "output_type": "execute_result"
    }
   ],
   "source": [
    "import json\n",
    "output_dict = json.loads(jb.choices[0].message.to_dict()['content'])\n",
    "output_dict"
   ]
  },
  {
   "cell_type": "code",
   "execution_count": 163,
   "metadata": {},
   "outputs": [],
   "source": [
    "valid_prompts = [\n",
    "    \"set background to blue\",                # Matches Command.BGCOLOR1 with ColorArgument.BLUE\n",
    "    \"change background color to green\",     # Matches Command.BGCOLOR1 with ColorArgument.GREEN\n",
    "    \"spawn an oscillator\",                  # Matches Command.SPAWNASYNC with SpawnArgument.OSC\n",
    "    \"create a new violin sound\",            # Matches Command.SPAWNASYNC with SpawnArgument.VIOLIN\n",
    "    \"show me the block list\",               # Matches Command.SHOWBLOCKLIST\n",
    "    \"suggest some techno music\",            # Matches MusicSuggestionArguments with MusicGenre.TECHNO\n",
    "    \"recommend reggae tracks\",              # Matches MusicSuggestionArguments with MusicGenre.REGGAE\n",
    "    \"spawn a speaker\",                      # Matches Command.SPAWNASYNC with SpawnArgument.SPEAKER\n",
    "    \"set background to red\",                # Matches Command.BGCOLOR1 with ColorArgument.RED\n",
    "    \"play some techno with energy\",         # Matches MusicSuggestionArguments with MusicGenre.TECHNO + mood\n",
    "    \"play reggae music for relaxing\",       # Matches MusicSuggestionArguments with MusicGenre.REGGAE + mood\n",
    "    \"spawn some noize\",                     # Matches Command.SPAWNASYNC with SpawnArgument.NOIZE\n",
    "    \"set the background to purple\",         # Matches Command.BGCOLOR1 with ColorArgument.PURPLE\n",
    "    \"suggest some energetic techno songs\",  # Matches MusicSuggestionArguments with MusicGenre.TECHNO\n",
    "    \"recommend a playlist for reggae\",      # Matches MusicSuggestionArguments with MusicGenre.REGGAE\n",
    "]\n",
    "invalid_prompts = [\n",
    "    \"set background to yellow\",             # Invalid: \"yellow\" is not a valid ColorArgument\n",
    "    \"spawn a guitar\",                       # Invalid: \"guitar\" is not a valid SpawnArgument\n",
    "    \"play classical music\",                 # Invalid: \"classical\" is not a valid MusicGenre\n",
    "    \"set background to blue and green\",     # Invalid: Only one ColorArgument is allowed\n",
    "    \"change the background to something cool\", # Invalid: Argument not specific\n",
    "    \"spawn a new background\",               # Invalid: Mismatched Command with invalid argument\n",
    "    \"recommend some songs\",                 # Invalid: Missing MusicGenre\n",
    "    \"create noise\",                         # Invalid: Ambiguous, \"create\" not defined as a valid Command\n",
    "    \"show block list now\",                  # Invalid: Unrecognized format for Command.SHOWBLOCKLIST\n",
    "    \"set color to turquoise\",               # Invalid: \"turquoise\" is not a valid ColorArgument\n",
    "    \"spawn an animal\",                      # Invalid: \"animal\" is not a valid SpawnArgument\n",
    "    \"play energetic music\",                 # Invalid: Missing MusicGenre\n",
    "    \"recommend something fun\",              # Invalid: Ambiguous and non-specific\n",
    "    \"background to green and spawn violin\", # Invalid: Multiple commands in one request\n",
    "    \"spawn an osc and speaker\",             # Invalid: Multiple SpawnArguments not supported\n",
    "]\n"
   ]
  },
  {
   "cell_type": "code",
   "execution_count": 165,
   "metadata": {},
   "outputs": [
    {
     "name": "stdout",
     "output_type": "stream",
     "text": [
      "set background to blue: {\"intention\":\"voice_command\",\"details\":{\"command\":\"set_bg_color1\",\"arguments\":{\"r\":0,\"g\":0,\"b\":1}}}\n",
      "change background color to green: {\"intention\":\"voice_command\",\"details\":{\"command\":\"set_bg_color1\",\"arguments\":{\"r\":0,\"g\":1,\"b\":0}}}\n",
      "spawn an oscillator: {\"intention\":\"voice_command\",\"details\":{\"command\":\"spawn\",\"arguments\":\"oscillator\"}}\n",
      "create a new violin sound: {\"intention\":\"voice_command\",\"details\":{\"command\":\"spawn\",\"arguments\":\"violin\"}}\n",
      "show me the block list: {\"intention\":\"voice_command\",\"details\":{\"command\":\"show_block_list\",\"arguments\":null}}\n",
      "suggest some techno music: {\"intention\":\"music_suggestion\",\"details\":{\"genre\":\"techno\",\"mood\":null}}\n",
      "recommend reggae tracks: {\"intention\":\"music_suggestion\",\"details\":{\"genre\":\"reggae\",\"mood\":null}}\n",
      "spawn a speaker: {\"intention\":\"voice_command\",\"details\":{\"command\":\"spawn\",\"arguments\":\"speaker\"}}\n",
      "set background to red: {\"intention\":\"voice_command\",\"details\":{\"command\":\"set_bg_color1\",\"arguments\":{\"r\":1,\"g\":0,\"b\":0}}}\n",
      "play some techno with energy: {\"intention\":\"music_suggestion\",\"details\":{\"genre\":\"techno\",\"mood\":\"energy\"}}\n",
      "play reggae music for relaxing: {\"intention\":\"music_suggestion\",\"details\":{\"genre\":\"reggae\",\"mood\":\"relaxing\"}}\n",
      "spawn some noize: {\"intention\":\"voice_command\",\"details\":{\"command\":\"spawn\",\"arguments\":\"noize\"}}\n",
      "set the background to purple: {\"intention\":\"voice_command\",\"details\":{\"command\":\"set_bg_color1\",\"arguments\":{\"r\":0.5,\"g\":0,\"b\":0.5}}}\n",
      "suggest some energetic techno songs: {\"intention\":\"music_suggestion\",\"details\":{\"genre\":\"techno\",\"mood\":\"energetic\"}}\n",
      "recommend a playlist for reggae: {\"intention\":\"music_suggestion\",\"details\":{\"genre\":\"reggae\",\"mood\":null}}\n"
     ]
    }
   ],
   "source": [
    "for prompt in valid_prompts:\n",
    "    res = await classify(prompt)\n",
    "    print(f\"{prompt}: {res.choices[0].message.content}\")"
   ]
  },
  {
   "cell_type": "code",
   "execution_count": 166,
   "metadata": {},
   "outputs": [
    {
     "name": "stdout",
     "output_type": "stream",
     "text": [
      "set background to yellow: {\"intention\":\"voice_command\",\"details\":{\"command\":\"set_bg_color1\",\"arguments\":{\"r\":1,\"g\":1,\"b\":0}}}\n",
      "spawn a guitar: {\"intention\":\"voice_command\",\"details\":{\"command\":\"spawn\",\"arguments\":\"violin\"}}\n",
      "play classical music: {\"intention\":\"music_suggestion\",\"details\":{\"genre\":\"techno\",\"mood\":null}}\n",
      "set background to blue and green: {\"intention\":\"voice_command\",\"details\":{\"command\":\"set_bg_color1\",\"arguments\":{\"r\":0.0,\"g\":1.0,\"b\":0.0}}}\n",
      "change the background to something cool: {\"intention\":\"voice_command\",\"details\":{\"command\":\"set_bg_color1\",\"arguments\":{\"r\":0.0,\"g\":0.0,\"b\":1.0}}}\n",
      "spawn a new background: {\"intention\":\"voice_command\",\"details\":{\"command\":\"spawn\",\"arguments\":\"noize\"}}\n",
      "recommend some songs: {\"intention\":\"music_suggestion\",\"details\":{\"genre\": \"techno\",\"mood\": null}}\n",
      "create noise: {\"intention\":\"voice_command\",\"details\":{\"command\":\"spawn\",\"arguments\":\"noize\"}}\n",
      "show block list now: {\"intention\":\"voice_command\",\"details\":{\"command\":\"show_block_list\",\"arguments\":null}}\n",
      "set color to turquoise: {\"intention\":\"voice_command\",\"details\":{\"command\":\"set_bg_color1\",\"arguments\":{\"r\":0.0,\"g\":0.5,\"b\":0.5}}}\n",
      "spawn an animal: {\"intention\":\"voice_command\",\"details\":{\"command\":\"spawn\",\"arguments\":\"noize\"}}\n",
      "play energetic music: {\"intention\":\"music_suggestion\",\"details\":{\"genre\":\"techno\",\"mood\":\"energetic\"}}\n",
      "recommend something fun: {\"intention\":\"music_suggestion\",\"details\":{\"genre\":\"techno\",\"mood\":\"fun\"}}\n",
      "background to green and spawn violin: {\"intention\":\"voice_command\",\"details\":{\"command\":\"set_bg_color1\",\"arguments\":{\"r\":0,\"g\":1,\"b\":0}}}\n",
      "spawn an osc and speaker: {\"intention\":\"voice_command\",\"details\":{\"command\":\"spawn\",\"arguments\":\"oscillator\"}}\n"
     ]
    }
   ],
   "source": [
    "for prompt in invalid_prompts:\n",
    "    res = await classify(prompt)\n",
    "    print(f\"{prompt}: {res.choices[0].message.content}\")"
   ]
  },
  {
   "cell_type": "code",
   "execution_count": null,
   "metadata": {},
   "outputs": [],
   "source": [
    "b = await classify('Set BGColor to orange')"
   ]
  },
  {
   "cell_type": "code",
   "execution_count": 16,
   "metadata": {},
   "outputs": [],
   "source": [
    "COMMAND_ALIASES = {\n",
    "    \"background\": \"set_bg_color1\",\n",
    "    \"bg\": \"set_bg_color1\",\n",
    "    \"create\": \"spawn\",\n",
    "    \"give me\": \"spawn\",\n",
    "    \"show list of blocks\": \"show_block_list\",\n",
    "    \"blocklist\": \"show_block_list\",\n",
    "    \"block list\": \"show_block_list\",\n",
    "    \"blocks list\": \"show_block_list\",\n",
    "}"
   ]
  },
  {
   "cell_type": "code",
   "execution_count": null,
   "metadata": {},
   "outputs": [],
   "source": [
    "def normalize_command(user_input: str) -> Optional[str]:\n",
    "    # Normalize input to lowercase and remove extra spaces\n",
    "    user_input = user_input.lower().strip()\n",
    "    # Find the matching command\n",
    "    for alias, command in COMMAND_ALIASES.items():\n",
    "        if alias in user_input:\n",
    "            return command\n",
    "    return None  # Return None if no match is found\n"
   ]
  },
  {
   "cell_type": "markdown",
   "metadata": {},
   "source": [
    "##### Exp Instructor"
   ]
  },
  {
   "cell_type": "markdown",
   "metadata": {},
   "source": []
  },
  {
   "cell_type": "code",
   "execution_count": null,
   "metadata": {},
   "outputs": [],
   "source": [
    "import instructor\n",
    "from openai import OpenAI\n",
    "\n",
    "client = instructor.from_openai(OpenAI(), mode=instructor.Mode.TOOLS)"
   ]
  },
  {
   "cell_type": "code",
   "execution_count": null,
   "metadata": {},
   "outputs": [],
   "source": [
    "from pydantic import BaseModel,Field, ValidationError\n",
    "from enum import Enum\n",
    "from typing import Union, Optional\n",
    "\n"
   ]
  },
  {
   "cell_type": "code",
   "execution_count": 7,
   "metadata": {},
   "outputs": [],
   "source": [
    "class RequestCategory(str, Enum):\n",
    "    VOICE_COMMAND = \"voice_command\"\n",
    "    MUSIC_SUGGESTION = \"music_suggestion\"\n"
   ]
  },
  {
   "cell_type": "code",
   "execution_count": null,
   "metadata": {},
   "outputs": [],
   "source": [
    "class LizaCommand(str, Enum):\n",
    "    BGCOLOR1 = 'set_bg_color1'\n",
    "    BGCOLOR2 = 'set_bg_color2'\n",
    "    BGCOLORHSV = 'set_bg_color_hsv'\n",
    "    # SETCOLORPALETTE = 'set_color_palette'\n",
    "    SPAWNASYNC = 'spawn'\n",
    "    SHOWBLOCKLIST = 'show_block_list'\n"
   ]
  },
  {
   "cell_type": "code",
   "execution_count": 10,
   "metadata": {},
   "outputs": [],
   "source": [
    "class LizaCommand(str, Enum):\n",
    "    BGCOLOR1 = 'set_bg_color1'\n",
    "    SPAWNASYNC = 'spawn'\n",
    "    SHOWBLOCKLIST = 'show_block_list'\n"
   ]
  },
  {
   "cell_type": "code",
   "execution_count": null,
   "metadata": {},
   "outputs": [],
   "source": []
  },
  {
   "cell_type": "code",
   "execution_count": null,
   "metadata": {},
   "outputs": [],
   "source": [
    "class SpawnArgument(str, Enum):\n",
    "    OSC = 'oscillator'\n",
    "    SPEAKER = 'speaker'\n",
    "    NOIZE = 'noize'"
   ]
  },
  {
   "cell_type": "code",
   "execution_count": null,
   "metadata": {},
   "outputs": [],
   "source": [
    "class RequestCategory(str, Enum):\n",
    "    VOICE_COMMAND = \"voice_command\"\n",
    "    MUSIC_SUGGESTION = \"music_suggestion\"\n",
    "\n",
    "class MusicGenre(str, Enum):\n",
    "    TECHNO = 'techno'\n",
    "    REGGAE = 'reggae'\n",
    "\n",
    "class Command(str, Enum):\n",
    "    BGCOLOR1 = \"set_bg_color1\"\n",
    "    SPAWNASYNC = \"spawn\"\n",
    "    SHOWBLOCKLIST = 'show_block_list'\n",
    "\n",
    "class ColorArgument(str, Enum):\n",
    "    BLUE = 'blue'\n",
    "    RED = 'red'\n",
    "    GREEN = 'green'\n",
    "    PURPLE = 'purple'\n",
    "\n",
    "class SpawnArgument(str, Enum):\n",
    "    OSC = 'oscillator'\n",
    "    SPEAKER = 'speaker'\n",
    "    NOIZE = 'noize'\n",
    "    VIOLIN = 'violin'\n",
    "\n",
    "class ExtractIntention(BaseModel):\n",
    "    intention: RequestCategory\n",
    "    # age: int"
   ]
  },
  {
   "cell_type": "markdown",
   "metadata": {},
   "source": []
  },
  {
   "cell_type": "code",
   "execution_count": null,
   "metadata": {},
   "outputs": [],
   "source": [
    "# classify the intention:\n",
    "# - voice command execution -> chat\n",
    "# - music making suggestion -> chat\n",
    "# - question about the docs -> RAG\n",
    "# - recalling memories -> history \n",
    "# - generation of the midi -> midi gen\n",
    "# - changing of the midi -> midi change module\n",
    "# - generation of the sound -> sound gen module"
   ]
  }
 ],
 "metadata": {
  "kernelspec": {
   "display_name": "cmd_recognition-NjpAcSFC",
   "language": "python",
   "name": "python3"
  },
  "language_info": {
   "codemirror_mode": {
    "name": "ipython",
    "version": 3
   },
   "file_extension": ".py",
   "mimetype": "text/x-python",
   "name": "python",
   "nbconvert_exporter": "python",
   "pygments_lexer": "ipython3",
   "version": "3.11.7"
  }
 },
 "nbformat": 4,
 "nbformat_minor": 2
}
