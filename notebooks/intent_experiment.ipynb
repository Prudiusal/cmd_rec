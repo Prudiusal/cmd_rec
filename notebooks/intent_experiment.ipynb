{
 "cells": [
  {
   "cell_type": "code",
   "execution_count": 15,
   "metadata": {},
   "outputs": [],
   "source": [
    "import re\n",
    "from sklearn.metrics.pairwise import cosine_similarity\n",
    "from transformers import pipeline\n",
    "\n",
    "from sentence_transformers import SentenceTransformer"
   ]
  },
  {
   "cell_type": "code",
   "execution_count": 16,
   "metadata": {},
   "outputs": [
    {
     "name": "stderr",
     "output_type": "stream",
     "text": [
      "Hardware accelerator e.g. GPU is available in the environment, but no `device` argument is passed to the `Pipeline` object. Model will be on CPU.\n"
     ]
    }
   ],
   "source": [
    "\n",
    "classifier = pipeline(\"text-classification\", model=\"Falconsai/intent_classification\")\n",
    "text = \"set tempo to 90 bpm\"\n",
    "result = classifier(text)"
   ]
  },
  {
   "cell_type": "code",
   "execution_count": 17,
   "metadata": {},
   "outputs": [
    {
     "data": {
      "text/plain": [
       "[{'label': 'appointment', 'score': 1.0}]"
      ]
     },
     "execution_count": 17,
     "metadata": {},
     "output_type": "execute_result"
    }
   ],
   "source": [
    "result"
   ]
  },
  {
   "cell_type": "code",
   "execution_count": null,
   "metadata": {},
   "outputs": [
    {
     "ename": "NameError",
     "evalue": "name 'model' is not defined",
     "output_type": "error",
     "traceback": [
      "\u001b[0;31m---------------------------------------------------------------------------\u001b[0m",
      "\u001b[0;31mNameError\u001b[0m                                 Traceback (most recent call last)",
      "Cell \u001b[0;32mIn[18], line 4\u001b[0m\n\u001b[1;32m      1\u001b[0m \u001b[38;5;28;01mfrom\u001b[39;00m \u001b[38;5;21;01msentence_transformers\u001b[39;00m \u001b[38;5;28;01mimport\u001b[39;00m SentenceTransformer\n\u001b[1;32m      3\u001b[0m intents \u001b[38;5;241m=\u001b[39m [\u001b[38;5;124m\"\u001b[39m\u001b[38;5;124mPlay music\u001b[39m\u001b[38;5;124m\"\u001b[39m, \u001b[38;5;124m\"\u001b[39m\u001b[38;5;124mPause music\u001b[39m\u001b[38;5;124m\"\u001b[39m, \u001b[38;5;124m\"\u001b[39m\u001b[38;5;124mStop music\u001b[39m\u001b[38;5;124m\"\u001b[39m]\n\u001b[0;32m----> 4\u001b[0m intent_embeddings \u001b[38;5;241m=\u001b[39m \u001b[43mmodel\u001b[49m\u001b[38;5;241m.\u001b[39mencode(intents)\n",
      "\u001b[0;31mNameError\u001b[0m: name 'model' is not defined"
     ]
    }
   ],
   "source": [
    "from sentence_transformers import SentenceTransformer\n",
    "\n",
    "# intents = [\"Play music\", \"Pause music\", \"Stop music\"]\n",
    "# intent_embeddings = model.encode(intents)"
   ]
  },
  {
   "cell_type": "markdown",
   "metadata": {},
   "source": [
    "### Embeddings for the intentions"
   ]
  },
  {
   "cell_type": "code",
   "execution_count": null,
   "metadata": {},
   "outputs": [
    {
     "data": {
      "text/plain": [
       "array([[ 0.6888892 , -0.4553661 ,  0.33920723, ...,  0.30810612,\n",
       "         0.21911076,  0.3688749 ],\n",
       "       [ 0.38095832, -0.3975439 ,  0.06559265, ...,  0.19594586,\n",
       "        -0.27330932,  0.3508724 ],\n",
       "       [ 0.4694603 , -0.6657139 ,  0.28274104, ...,  0.25762236,\n",
       "        -0.01942625,  0.4449004 ]], dtype=float32)"
      ]
     },
     "execution_count": 18,
     "metadata": {},
     "output_type": "execute_result"
    }
   ],
   "source": [
    "# intent_embeddings"
   ]
  },
  {
   "cell_type": "markdown",
   "metadata": {},
   "source": [
    "##### Commands"
   ]
  },
  {
   "cell_type": "code",
   "execution_count": null,
   "metadata": {},
   "outputs": [],
   "source": [
    "# b : true/flase\n",
    "# i : number\n",
    "# f : number\n",
    "# s : text\n",
    "# commands: \n",
    "cmds_raw = \"\"\"AbletonLinkEnabled b\n",
    "AbletonLinkLatency f\n",
    "AddRelatedWorld s\n",
    "AllowControlPanel b\n",
    "AllowEditing b\n",
    "AllowForking b\n",
    "AllowJoltPatching b\n",
    "AllowOpenBubbles b\n",
    "AllowPlayerScaling b\n",
    "AllowPlayerTilt b\n",
    "AllowRadialMenu b\n",
    "AllowSwimming b\n",
    "AmbientColorHSV f f f\n",
    "AmbientColorRGB f f f\n",
    "AssignAccessLevel i\n",
    "Autosaving b\n",
    "BGColor1 f f f\n",
    "BGColor2 f f f\n",
    "BgColorHSV f f f\n",
    "CallEvent i f\n",
    "ChangeFogColor c\n",
    "ChangeFogDistance f\n",
    "CheckChangeRate f\n",
    "CurrentStateToTemp\n",
    "DisableGhostHitInteractions b\n",
    "DisableGhostInteractions b\n",
    "DisplayButtonText b\n",
    "EditModeNumbers b\n",
    "EnableBeta b\n",
    "FadeToBlack f\n",
    "FogColorHSV f f f\n",
    "FogColorRGB f f f\n",
    "FogFalloffMode i\n",
    "GetCpuUsage\n",
    "Go s\n",
    "GoToTemp\n",
    "HideAll\n",
    "HighlightControllerButton s s f f\n",
    "LoadFromCloud s\n",
    "LoadRPMAvatar s\n",
    "LockPatch b\n",
    "MakeCircle s i f\n",
    "MPLobby s\n",
    "MPPopulatedWorld s s x\n",
    "MPRandom\n",
    "MPSession s\n",
    "MPWorld s\n",
    "MPWorldLast s\n",
    "NextScene s\n",
    "OpenURL s\n",
    "OptoutAnalytics b\n",
    "PlaceAllWindows\n",
    "PlaceReflectionProbe\n",
    "PlayModeNumbers b\n",
    "PreloadWorld s\n",
    "PreviousScene s\n",
    "QuestBoostThreshold f\n",
    "QuestUnBoostThreshold f\n",
    "RemoveControlPanel\n",
    "RGR\n",
    "Script s\n",
    "SelectAll\n",
    "SendAnalyticsEvent s\n",
    "SetAntiAliasing i\n",
    "SetAudioEngineProcessingEnabled b\n",
    "SetBufferSize i\n",
    "SetColorPalette s\n",
    "SetControllersVisible b\n",
    "SetGameMode s\n",
    "SetGhostRecordingGain f\n",
    "SetGlobalSnapTurn b\n",
    "SetGlobalSwimScaling b\n",
    "SetGlobalTeleport b\n",
    "SetGlobalUpsideDown b\n",
    "SetGridEnabled b\n",
    "SetMainLight f f f f f f\n",
    "SetMarbleLifeTime f\n",
    "SetMarbleMaxCount i\n",
    "SetMarbleMaxDistance f\n",
    "SetMetronomeEnabled b\n",
    "SetMixedRealityMode s\n",
    "SetPause b\n",
    "SetPixelLightCount i\n",
    "SetPlayerHeadPosition f f f f f f f\n",
    "SetPlayerLimit f f f f f f\n",
    "SetPlayerPosition f f f\n",
    "SetPlayerScale f\n",
    "SetPlayerScaleMultiplier f\n",
    "SetPostProcessing i\n",
    "SetPowerBlockVisible b\n",
    "SetPrinterDefaultMode s\n",
    "SetRadialMenuProfile i\n",
    "SetRecordVoice b\n",
    "SetRegion s\n",
    "SetSceneBounciness f f f\n",
    "SetShadowDistance f\n",
    "SetShadowQuality i\n",
    "SetSyncPhysicalSpace b\n",
    "SetTempo f\n",
    "SetTime f\n",
    "SetWorldResolutionMultiplier f\n",
    "SetWorldSnapTurn b\n",
    "SetWorldSwimScaling b\n",
    "SetWorldTeleport b\n",
    "SetWorldUpsideDown b\n",
    "ShowAllHidden b\n",
    "ShowBlockList\n",
    "ShowHidden b\n",
    "ShowHub b\n",
    "ShowTooltips b\n",
    "SpawnAsync s\n",
    "SwimToGazeAngle f\n",
    "SwimToGazeWeight f\n",
    "Test123\n",
    "TestInvite\n",
    "TestMP\n",
    "TestRequest\n",
    "TimelineLength f\n",
    "TimelineLoop b\n",
    "TimelinePlay\n",
    "TimelineStop\n",
    "ToPowerblock\"\"\"\n"
   ]
  },
  {
   "cell_type": "markdown",
   "metadata": {},
   "source": [
    "##### Formation"
   ]
  },
  {
   "cell_type": "code",
   "execution_count": null,
   "metadata": {},
   "outputs": [],
   "source": [
    "\n",
    "def split_by_capitals(text):\n",
    "    result = re.findall(r'[A-Z][^A-Z]*', text)\n",
    "    return ''.join(result) \n",
    "\n",
    "\n",
    "def split_by_new_line(text):\n",
    "    # Use regex to split the text at capital letters\n",
    "    # result = re.findall(r'[A-Z][^A-Z]*', text)\n",
    "    result = text.split('\\n')\n",
    "    return result\n",
    "\n",
    "\n",
    "def clean_and_split(text):\n",
    "    # Remove newline characters\n",
    "    text = text.replace('\\n', ' ')\n",
    "    \n",
    "    # Split by the first space\n",
    "    split_text = text.split(' ', 1)\n",
    "    if len(split_text) > 1:\n",
    "        split_text[1] = split_text[1].split()\n",
    "    else:\n",
    "        split_text.append('UNK')\n",
    "    \n",
    "    return split_text\n",
    "\n",
    "def calc_embeddings(cmd, model):\n",
    "    cmd_name = cmd[0]\n",
    "    embedding = model.encode(cmd_name)\n",
    "    cmd.append(embedding)\n",
    "\n",
    "    return cmd\n",
    "\n",
    "\n",
    "\n",
    "# cmds_sep = split_by_capitals(cmds_raw)\n",
    "# cmds_with_args = [clean_and_split(c) for c in cmds_sep]\n",
    "# cmd_with_embs = [calc_embeddings(c) for c in cmds_with_args]\n",
    "# dict_with_methods = {cmd: [form, emb] for cmd, form, emb in cmd_with_embs}\n",
    "# # list_with_methods = [[cmd, form, emb] for cmd, form, emb in cmd_with_embs]\n",
    "# emb_to_method = {tuple(emb): [cmd, form] for cmd, form, emb in cmd_with_embs}\n",
    "# # cmd_with_embs"
   ]
  },
  {
   "cell_type": "code",
   "execution_count": null,
   "metadata": {},
   "outputs": [],
   "source": [
    "def get_cmd_emb(cmds_raw, model):\n",
    "    cmds_sep = split_by_capitals(cmds_raw)\n",
    "    cmds_with_args = [clean_and_split(c) for c in cmds_sep]\n",
    "    cmd_with_embs = [calc_embeddings(c) for c in cmds_with_args]\n",
    "    return cmd_with_embs\n"
   ]
  },
  {
   "cell_type": "markdown",
   "metadata": {},
   "source": [
    "### Classification"
   ]
  },
  {
   "cell_type": "code",
   "execution_count": null,
   "metadata": {},
   "outputs": [],
   "source": [
    "import psutil\n",
    "import os\n",
    "import time\n",
    "\n",
    "\n",
    "def memory_usage():\n",
    "    process = psutil.Process(os.getpid())\n",
    "    return process.memory_info().rss / 1024 ** 2  # in MB\n",
    "\n"
   ]
  },
  {
   "cell_type": "code",
   "execution_count": 20,
   "metadata": {},
   "outputs": [
    {
     "name": "stderr",
     "output_type": "stream",
     "text": [
      "huggingface/tokenizers: The current process just got forked, after parallelism has already been used. Disabling parallelism to avoid deadlocks...\n",
      "To disable this warning, you can either:\n",
      "\t- Avoid using `tokenizers` before the fork if possible\n",
      "\t- Explicitly set the environment variable TOKENIZERS_PARALLELISM=(true | false)\n",
      "0.00s - Debugger warning: It seems that frozen modules are being used, which may\n",
      "0.00s - make the debugger miss breakpoints. Please pass -Xfrozen_modules=off\n",
      "0.00s - to python to disable frozen modules.\n",
      "0.00s - Note: Debugging will proceed. Set PYDEVD_DISABLE_FILE_VALIDATION=1 to disable this validation.\n"
     ]
    }
   ],
   "source": [
    "from sklearn.metrics.pairwise import cosine_similarity\n",
    "\n",
    "\n",
    "RED = '\\033[31m'\n",
    "RESET = '\\033[0m'\n",
    "YELLOW = '\\033[33m'\n",
    "\n",
    "intents = [\"I want to change post processing\", \"I want to configure Autosaving setup\", \"Set tempo to 90 bmp\", \"Spawn new block\"]\n",
    "\n",
    "model = SentenceTransformer('paraphrase-MiniLM-L6-v2')\n",
    "\n",
    "# check_retrival(cmds_raw, model, intents)\n"
   ]
  },
  {
   "cell_type": "code",
   "execution_count": null,
   "metadata": {},
   "outputs": [],
   "source": [
    "def check_retrival(cmds_raw, model, intents, model_name='None'):\n",
    "    num_params = sum([p.numel() for p in model.parameters()])\n",
    "    print(70*'_')\n",
    "    print(f\"Model {YELLOW}{model_name}{RESET} with {YELLOW}{num_params / 1_000_000:.2f}M{RESET} of params\")\n",
    "    print(70*'-')\n",
    "    print()\n",
    "\n",
    "    # intent_embeddings = model.encode(intents)\n",
    "    cmd_with_emb = get_cmd_emb(cmds_raw, model)\n",
    "    # Measure start time and memory usage\n",
    "    start_time = time.time()\n",
    "    start_memory = memory_usage()\n",
    "\n",
    "    embeddings_only = [emb for _, _, emb in cmd_with_emb]\n",
    "    start_rec_time = time.time()\n",
    "\n",
    "\n",
    "    for intent in intents:\n",
    "        intent_emb = model.encode(intent).reshape(1, -1)\n",
    "        similarities = cosine_similarity(intent_emb, embeddings_only)\n",
    "        closest_intent_idx = similarities.argmax()\n",
    "        predicted_intent = cmd_with_emb[closest_intent_idx][0]\n",
    "        # print(f\"for the intent {intent} found method {predicted_intent}.\")\n",
    "        print(f\"for the intent {RED}{intent}{RESET} found method {RED}{predicted_intent}{RESET}.\") \n",
    "    print()\n",
    "\n",
    "    # Measure end time and memory usage\n",
    "    end_time = time.time()\n",
    "    end_memory = memory_usage()\n",
    "\n",
    "    # Print performance metrics\n",
    "    elapsed_time = end_time - start_time\n",
    "    time_cycle = end_time - start_rec_time\n",
    "    memory_consumed = end_memory - start_memory\n",
    "\n",
    "    print(f'{elapsed_time=}')\n",
    "    print(f'{time_cycle=}')\n",
    "    print(f'{memory_consumed=}')\n"
   ]
  },
  {
   "cell_type": "code",
   "execution_count": 2,
   "metadata": {},
   "outputs": [],
   "source": [
    "\n",
    "import os\n",
    "\n",
    "\n",
    "# Verify it's set"
   ]
  },
  {
   "cell_type": "code",
   "execution_count": null,
   "metadata": {},
   "outputs": [],
   "source": [
    "from openai import OpenAI\n",
    "client = OpenAI()\n",
    "\n",
    "def get_embedding(text, model=\"text-embedding-3-small\"):\n",
    "   text = text.replace(\"\\n\", \" \")\n",
    "   return client.embeddings.create(input = [text], model=model).data[0].embedding\n",
    "\n",
    "def calc_embeddings_openai(cmd):\n",
    "    cmd_name = cmd[0]\n",
    "    embedding = get_embedding(cmd_name, model='text-embedding-3-small')\n",
    "    cmd.append(embedding)\n",
    "    return cmd"
   ]
  },
  {
   "cell_type": "code",
   "execution_count": 9,
   "metadata": {},
   "outputs": [
    {
     "data": {
      "text/plain": [
       "'AbletonLinkEnabled b\\nAbletonLinkLatency f\\nAddRelatedWorld s\\nAllowControlPanel b\\nAllowEditing b\\nAllowForking b\\nAllowJoltPatching b\\nAllowOpenBubbles b\\nAllowPlayerScaling b\\nAllowPlayerTilt b\\nAllowRadialMenu b\\nAllowSwimming b\\nAmbientColorHSV f f f\\nAmbientColorRGB f f f\\nAssignAccessLevel i\\nAutosaving b\\nBGColor1 f f f\\nBGColor2 f f f\\nBgColorHSV f f f\\nCallEvent i f\\nChangeFogColor c\\nChangeFogDistance f\\nCheckChangeRate f\\nCurrentStateToTemp\\nDisableGhostHitInteractions b\\nDisableGhostInteractions b\\nDisplayButtonText b\\nEditModeNumbers b\\nEnableBeta b\\nFadeToBlack f\\nFogColorHSV f f f\\nFogColorRGB f f f\\nFogFalloffMode i\\nGetCpuUsage\\nGo s\\nGoToTemp\\nHideAll\\nHighlightControllerButton s s f f\\nLoadFromCloud s\\nLoadRPMAvatar s\\nLockPatch b\\nMakeCircle s i f\\nMPLobby s\\nMPPopulatedWorld s s x\\nMPRandom\\nMPSession s\\nMPWorld s\\nMPWorldLast s\\nNextScene s\\nOpenURL s\\nOptoutAnalytics b\\nPlaceAllWindows\\nPlaceReflectionProbe\\nPlayModeNumbers b\\nPreloadWorld s\\nPreviousScene s\\nQuestBoostThreshold f\\nQuestUnBoostThreshold f\\nRemoveControlPanel\\nRGR\\nScript s\\nSelectAll\\nSendAnalyticsEvent s\\nSetAntiAliasing i\\nSetAudioEngineProcessingEnabled b\\nSetBufferSize i\\nSetColorPalette s\\nSetControllersVisible b\\nSetGameMode s\\nSetGhostRecordingGain f\\nSetGlobalSnapTurn b\\nSetGlobalSwimScaling b\\nSetGlobalTeleport b\\nSetGlobalUpsideDown b\\nSetGridEnabled b\\nSetMainLight f f f f f f\\nSetMarbleLifeTime f\\nSetMarbleMaxCount i\\nSetMarbleMaxDistance f\\nSetMetronomeEnabled b\\nSetMixedRealityMode s\\nSetPause b\\nSetPixelLightCount i\\nSetPlayerHeadPosition f f f f f f f\\nSetPlayerLimit f f f f f f\\nSetPlayerPosition f f f\\nSetPlayerScale f\\nSetPlayerScaleMultiplier f\\nSetPostProcessing i\\nSetPowerBlockVisible b\\nSetPrinterDefaultMode s\\nSetRadialMenuProfile i\\nSetRecordVoice b\\nSetRegion s\\nSetSceneBounciness f f f\\nSetShadowDistance f\\nSetShadowQuality i\\nSetSyncPhysicalSpace b\\nSetTempo f\\nSetTime f\\nSetWorldResolutionMultiplier f\\nSetWorldSnapTurn b\\nSetWorldSwimScaling b\\nSetWorldTeleport b\\nSetWorldUpsideDown b\\nShowAllHidden b\\nShowBlockList\\nShowHidden b\\nShowHub b\\nShowTooltips b\\nSpawnAsync s\\nSwimToGazeAngle f\\nSwimToGazeWeight f\\nTest123\\nTestInvite\\nTestMP\\nTestRequest\\nTimelineLength f\\nTimelineLoop b\\nTimelinePlay\\nTimelineStop\\nToPowerblock'"
      ]
     },
     "execution_count": 9,
     "metadata": {},
     "output_type": "execute_result"
    }
   ],
   "source": [
    "cmds_raw"
   ]
  },
  {
   "cell_type": "code",
   "execution_count": 8,
   "metadata": {},
   "outputs": [],
   "source": [
    "def get_cmd_emb_open(cmds_raw):\n",
    "    cmds_sep = split_by_capitals(cmds_raw)\n",
    "    cmds_with_args = [clean_and_split(c) for c in cmds_sep]\n",
    "    cmd_with_embs = [calc_embeddings_openai(c) for c in cmds_with_args]\n",
    "    return cmd_with_embs\n"
   ]
  },
  {
   "cell_type": "code",
   "execution_count": null,
   "metadata": {},
   "outputs": [],
   "source": [
    "cmds_with_openai_emb = get_cmd_emb_open(cmds_raw)"
   ]
  },
  {
   "cell_type": "code",
   "execution_count": null,
   "metadata": {},
   "outputs": [
    {
     "name": "stdout",
     "output_type": "stream",
     "text": [
      "ChatCompletionMessage(content=\"I'm here to assist you with the game. How can I help you today?\", refusal=None, role='assistant', audio=None, function_call=None, tool_calls=None)\n"
     ]
    }
   ],
   "source": [
    "from openai import OpenAI\n",
    "client = OpenAI()\n",
    "\n",
    "completion = client.chat.completions.create(\n",
    "    model=\"gpt-4o-mini\",\n",
    "    messages=[\n",
    "        {\"role\": \"system\", \"content\": \"You are a Liza assistant. Your name is public. You help with the game right now. Don't do respond anything else.\"},\n",
    "        {\n",
    "            \"role\": \"user\",\n",
    "            \"content\": \"Hi, who are you?\"\n",
    "        }\n",
    "    ]\n",
    ")\n",
    "\n",
    "print(completion.choices[0].message)"
   ]
  }
 ],
 "metadata": {
  "kernelspec": {
   "display_name": "cmd_recognition-NjpAcSFC",
   "language": "python",
   "name": "python3"
  },
  "language_info": {
   "codemirror_mode": {
    "name": "ipython",
    "version": 3
   },
   "file_extension": ".py",
   "mimetype": "text/x-python",
   "name": "python",
   "nbconvert_exporter": "python",
   "pygments_lexer": "ipython3",
   "version": "3.11.7"
  }
 },
 "nbformat": 4,
 "nbformat_minor": 2
}
